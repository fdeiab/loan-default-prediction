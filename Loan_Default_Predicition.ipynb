{
  "nbformat": 4,
  "nbformat_minor": 0,
  "metadata": {
    "colab": {
      "provenance": [],
      "mount_file_id": "12BXlZIo7ctBUnBsGxtBEOAh_F2Otaui2",
      "authorship_tag": "ABX9TyO3bnJhTKFTCnFIWdrt2foS",
      "include_colab_link": true
    },
    "kernelspec": {
      "name": "python3",
      "display_name": "Python 3"
    },
    "language_info": {
      "name": "python"
    }
  },
  "cells": [
    {
      "cell_type": "markdown",
      "metadata": {
        "id": "view-in-github",
        "colab_type": "text"
      },
      "source": [
        "<a href=\"https://colab.research.google.com/github/fdeiab/loan-default-prediction/blob/main/Loan_Default_Predicition.ipynb\" target=\"_parent\"><img src=\"https://colab.research.google.com/assets/colab-badge.svg\" alt=\"Open In Colab\"/></a>"
      ]
    },
    {
      "cell_type": "markdown",
      "source": [
        "# Background\n",
        "\n",
        "Loan approval is a critical decision for any lending institution. One of two scenarios may happen, the bank loses out on potential income by rejecting a loan to an individual or a company. Or, they lend a loan to a party exhibiting risky behaviour where heavy losses. This uncertainty is why it is a good idea that banks utilize good loan default prediction models as they stand much to gain. \n",
        "\n",
        "**The major goal of this notebook is to assess if a loan should be approved and predict whether a loan will default.**"
      ],
      "metadata": {
        "id": "1GIcBA_UMj_v"
      }
    },
    {
      "cell_type": "markdown",
      "source": [
        "# The Data\n",
        "\n",
        "The dataset used in this project, \"SBA Case\", is a subset of the \"National SBA\" data, which contains historical data from 1987 through 2014. The subset dataset focuses solely on the state of California through the years of 1989 to 2012. The dataset used contains **2,102** records under **35** attributes:\n"
      ],
      "metadata": {
        "id": "hYUT0xH0MXAr"
      }
    },
    {
      "cell_type": "code",
      "execution_count": 19,
      "metadata": {
        "colab": {
          "base_uri": "https://localhost:8080/"
        },
        "id": "4--fsDRYJrEO",
        "outputId": "9fb5f011-f795-4089-b221-605c1b9d3ad6"
      },
      "outputs": [
        {
          "output_type": "stream",
          "name": "stdout",
          "text": [
            "╒═══════════════════╤═══════════════════════════════════════════════════════════════════════════════════════════════════════════════════════════════════════════╕\n",
            "│ Variable name     │ Description of variable                                                                                                                   │\n",
            "╞═══════════════════╪═══════════════════════════════════════════════════════════════════════════════════════════════════════════════════════════════════════════╡\n",
            "│ LoanNr_ChkDgt     │ Identifier – Primary key                                                                                                                  │\n",
            "├───────────────────┼───────────────────────────────────────────────────────────────────────────────────────────────────────────────────────────────────────────┤\n",
            "│ Name              │ Borrower name                                                                                                                             │\n",
            "├───────────────────┼───────────────────────────────────────────────────────────────────────────────────────────────────────────────────────────────────────────┤\n",
            "│ City              │ Borrower city                                                                                                                             │\n",
            "├───────────────────┼───────────────────────────────────────────────────────────────────────────────────────────────────────────────────────────────────────────┤\n",
            "│ State             │ Borrower state                                                                                                                            │\n",
            "├───────────────────┼───────────────────────────────────────────────────────────────────────────────────────────────────────────────────────────────────────────┤\n",
            "│ Zip               │ Borrower zip code                                                                                                                         │\n",
            "├───────────────────┼───────────────────────────────────────────────────────────────────────────────────────────────────────────────────────────────────────────┤\n",
            "│ Bank              │ Bank name                                                                                                                                 │\n",
            "├───────────────────┼───────────────────────────────────────────────────────────────────────────────────────────────────────────────────────────────────────────┤\n",
            "│ BankState         │ Bank state                                                                                                                                │\n",
            "├───────────────────┼───────────────────────────────────────────────────────────────────────────────────────────────────────────────────────────────────────────┤\n",
            "│ NAICS             │ North American industry classification system code                                                                                        │\n",
            "├───────────────────┼───────────────────────────────────────────────────────────────────────────────────────────────────────────────────────────────────────────┤\n",
            "│ ApprovalDate      │ Date SBA commitment issued                                                                                                                │\n",
            "├───────────────────┼───────────────────────────────────────────────────────────────────────────────────────────────────────────────────────────────────────────┤\n",
            "│ ApprovalFY        │ Fiscal year of commitment                                                                                                                 │\n",
            "├───────────────────┼───────────────────────────────────────────────────────────────────────────────────────────────────────────────────────────────────────────┤\n",
            "│ Term              │ Loan term in months                                                                                                                       │\n",
            "├───────────────────┼───────────────────────────────────────────────────────────────────────────────────────────────────────────────────────────────────────────┤\n",
            "│ NoEmp             │ Number of business employees                                                                                                              │\n",
            "├───────────────────┼───────────────────────────────────────────────────────────────────────────────────────────────────────────────────────────────────────────┤\n",
            "│ NewExist          │ 1 = Existing business, 2 = New business                                                                                                   │\n",
            "├───────────────────┼───────────────────────────────────────────────────────────────────────────────────────────────────────────────────────────────────────────┤\n",
            "│ CreateJob         │ Number of jobs created                                                                                                                    │\n",
            "├───────────────────┼───────────────────────────────────────────────────────────────────────────────────────────────────────────────────────────────────────────┤\n",
            "│ RetainedJob       │ Number of jobs retained                                                                                                                   │\n",
            "├───────────────────┼───────────────────────────────────────────────────────────────────────────────────────────────────────────────────────────────────────────┤\n",
            "│ FranchiseCode     │ Franchise code, (00000 or 00001) = No franchise                                                                                           │\n",
            "├───────────────────┼───────────────────────────────────────────────────────────────────────────────────────────────────────────────────────────────────────────┤\n",
            "│ UrbanRural        │ 1 = Urban, 2 = rural, 0 = undefined                                                                                                       │\n",
            "├───────────────────┼───────────────────────────────────────────────────────────────────────────────────────────────────────────────────────────────────────────┤\n",
            "│ RevLineCr         │ Revolving line of credit: Y = Yes, N = No                                                                                                 │\n",
            "├───────────────────┼───────────────────────────────────────────────────────────────────────────────────────────────────────────────────────────────────────────┤\n",
            "│ LowDoc            │ LowDoc Loan Program: Y = Yes, N = No                                                                                                      │\n",
            "├───────────────────┼───────────────────────────────────────────────────────────────────────────────────────────────────────────────────────────────────────────┤\n",
            "│ ChgOffDate        │ The date when a loan is declared to be in default                                                                                         │\n",
            "├───────────────────┼───────────────────────────────────────────────────────────────────────────────────────────────────────────────────────────────────────────┤\n",
            "│ DisbursementDate  │ Disbursement date                                                                                                                         │\n",
            "├───────────────────┼───────────────────────────────────────────────────────────────────────────────────────────────────────────────────────────────────────────┤\n",
            "│ DisbursementGross │ Amount disbursed                                                                                                                          │\n",
            "├───────────────────┼───────────────────────────────────────────────────────────────────────────────────────────────────────────────────────────────────────────┤\n",
            "│ BalanceGross      │ Gross amount outstanding                                                                                                                  │\n",
            "├───────────────────┼───────────────────────────────────────────────────────────────────────────────────────────────────────────────────────────────────────────┤\n",
            "│ MIS_Status        │ Loan status charged off = CHGOFF, Paid in full = PIF                                                                                      │\n",
            "├───────────────────┼───────────────────────────────────────────────────────────────────────────────────────────────────────────────────────────────────────────┤\n",
            "│ ChgOffPrinGr      │ Charged-off amount                                                                                                                        │\n",
            "├───────────────────┼───────────────────────────────────────────────────────────────────────────────────────────────────────────────────────────────────────────┤\n",
            "│ GrAppv            │ Gross amount of loan approved by bank                                                                                                     │\n",
            "├───────────────────┼───────────────────────────────────────────────────────────────────────────────────────────────────────────────────────────────────────────┤\n",
            "│ SBA_Appv          │ SBA's guaranteed amount of approved loan                                                                                                  │\n",
            "├───────────────────┼───────────────────────────────────────────────────────────────────────────────────────────────────────────────────────────────────────────┤\n",
            "│ New               │ =1 if NewExist=2 (New Business), =0 if NewExist=1 (Existing Business)                                                                     │\n",
            "├───────────────────┼───────────────────────────────────────────────────────────────────────────────────────────────────────────────────────────────────────────┤\n",
            "│ Portion           │ Proportion of gross amount guaranteed by SBA                                                                                              │\n",
            "├───────────────────┼───────────────────────────────────────────────────────────────────────────────────────────────────────────────────────────────────────────┤\n",
            "│ RealEstate        │ =1 if loan is backed by real estate, =0 otherwise                                                                                         │\n",
            "├───────────────────┼───────────────────────────────────────────────────────────────────────────────────────────────────────────────────────────────────────────┤\n",
            "│ Recession         │ =1 if loan is active during Great Recession, =0 otherwise                                                                                 │\n",
            "├───────────────────┼───────────────────────────────────────────────────────────────────────────────────────────────────────────────────────────────────────────┤\n",
            "│ Selected          │ =1 if the data are selected as training data to build model for assignment, =0 if the data are selected as testing data to validate model │\n",
            "├───────────────────┼───────────────────────────────────────────────────────────────────────────────────────────────────────────────────────────────────────────┤\n",
            "│ Default           │ =1 if MIS_Status=CHGOFF, =0 if MIS_Status=PIF                                                                                             │\n",
            "├───────────────────┼───────────────────────────────────────────────────────────────────────────────────────────────────────────────────────────────────────────┤\n",
            "│ daysterm          │ Extra variable generated when creating “Recession” in Section 4.1.6                                                                       │\n",
            "├───────────────────┼───────────────────────────────────────────────────────────────────────────────────────────────────────────────────────────────────────────┤\n",
            "│ xx                │ Extra variable generated when creating “Recession” in Section 4.1.6                                                                       │\n",
            "╘═══════════════════╧═══════════════════════════════════════════════════════════════════════════════════════════════════════════════════════════════════════════╛\n"
          ]
        }
      ],
      "source": [
        "import pandas as pd\n",
        "import numpy as np\n",
        "import matplotlib.pyplot as plt\n",
        "import seaborn as sns\n",
        "from tabulate import tabulate\n",
        "\n",
        "df = pd.read_csv('/content/drive/MyDrive/SBAcase.11.13.17.csv')\n",
        "metadata_1 = pd.read_csv('/content/drive/MyDrive/metadata1.csv')\n",
        "metadata_2 = pd.read_csv('/content/drive/MyDrive/metadata2.csv')\n",
        "metadata = pd.concat([metadata_1, metadata_2])\n",
        "metadata = metadata.drop(columns='Data type')\n",
        "\n",
        "print(metadata.to_markdown(tablefmt=\"fancy_grid\", index=False))\n",
        "\n"
      ]
    },
    {
      "cell_type": "markdown",
      "source": [
        "\n",
        "\n"
      ],
      "metadata": {
        "id": "assx7HYfUy2Z"
      }
    }
  ]
}